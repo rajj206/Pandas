{
 "cells": [
  {
   "cell_type": "code",
   "execution_count": 1,
   "id": "db61c7d4",
   "metadata": {},
   "outputs": [],
   "source": [
    "import warnings\n",
    "warnings.filterwarnings('ignore')\n",
    "import pandas as pd\n",
    "import numpy as np\n",
    "import matplotlib.pyplot as plt\n",
    "pd.options.display.max_columns = 30"
   ]
  },
  {
   "cell_type": "code",
   "execution_count": 2,
   "id": "3cfcaf4b",
   "metadata": {},
   "outputs": [],
   "source": [
    "Filename = \"Icon Nov2021.pdf\"\n",
    "period_date = '2021-11-30'\n",
    "tabname = 'nov2021'"
   ]
  },
  {
   "cell_type": "code",
   "execution_count": 3,
   "id": "b0d9e481",
   "metadata": {},
   "outputs": [],
   "source": [
    "from tabula import read_pdf\n",
    "df = read_pdf(Filename,pages=\"all\")\n"
   ]
  },
  {
   "cell_type": "code",
   "execution_count": 4,
   "id": "227e6116",
   "metadata": {},
   "outputs": [],
   "source": [
    "def manupulation(df):\n",
    "    df_flat = df.copy()\n",
    "    df_flat.rename({'ICON MARI GOLD (BLOCK C)- WELFARE ASSOCIATION' : 'Expense Type', \n",
    "                           'Unnamed: 0' : 'Amount'}, axis=1, inplace=True)\n",
    "    df_flat.dropna(subset=['Expense Type'], inplace=True)\n",
    "    df_flat['Flat']= df_flat['Expense Type'].apply(lambda x:x if 'Flat no' in x else 'NA' )\n",
    "    df_flat ['Flat'] = df_flat.loc[(df_flat['Expense Type'].str.contains('Flat no')), 'Flat'].iloc[0]\n",
    "    df_flat.dropna(inplace=True)\n",
    "    df_flat['Flat'] = df_flat.loc[(df_flat.Flat.str.contains('Flat no')), 'Flat'].iloc[0]\n",
    "    df_flat.dropna(inplace=True)\n",
    "    return df_flat"
   ]
  },
  {
   "cell_type": "code",
   "execution_count": 5,
   "id": "ca5eea90",
   "metadata": {},
   "outputs": [],
   "source": [
    "final_df = pd.DataFrame (columns= ['Expense Type', 'Amount'])\n",
    "for i in range(25):\n",
    "    if df[i].columns[0] == 'Watchman Salary':\n",
    "        df[i] = df[i].columns.to_frame().T.append(df[i], ignore_index=True)\n",
    "        df[i].columns = range(len(df[i].columns))\n",
    "        df[i].columns = ['ICON MARI GOLD (BLOCK C)- WELFARE ASSOCIATION', 'Unnamed: 0']\n",
    "        df[i] = df[i].append(df[i-1],ignore_index=True)\n",
    "        df_flat = manupulation(df[i])\n",
    "        \n",
    "    elif len(df[i].columns) == 1:\n",
    "        df[i]['Unnamed: 0'] = np.nan\n",
    "        \n",
    "    elif len(df[i].columns) == 2:\n",
    "        df_flat = manupulation(df[i])\n",
    "    final_df = final_df.append(df_flat, ignore_index=True)"
   ]
  },
  {
   "cell_type": "code",
   "execution_count": 6,
   "id": "186eea3a",
   "metadata": {},
   "outputs": [],
   "source": [
    "misc_df = final_df[final_df['Expense Type'].isin(['Watchman Salary', 'Common Electricity - to all flats', 'Common Water Expenses(Watchman & Gardening)',\n",
    "                \"Generator Battery,Sanitizer5 lit,Connection charges for Manjeera sump to Normal sump,Water tank cleaning,watch Mobile Reacharge and other Miscellaneous expenditures..\",\n",
    "                \"Garden Cutting Hedge,Property Tax link doc Photo copy,External Drainage Cleaning in Aug month,Lift Quarterly Maintenance,Mithilanagar Asso Monthly charges per flat @ Rs 50/- & other Miscellaneous\",\n",
    "                \"Diesel Purchase,External Drainage Cleaning,Mithilanagar Asso Monthly charges per flat @ Rs 50/- ,Dussara Mamulu for Garbage,other Miscellaneous\",\n",
    "                \"Diesel Purchase,Mithilanagar Asso Monthly charges per flat @ Rs 50/- ,Dussara Mamulu for Line Man,Generator Servicing,Water Pipe 100 ft,Main Gate Lights( Material & Labour) & other Miscellaneous\",\n",
    "                \"Drainage Rock Excavation,Laboue Charges for Concrete mix on the pipes, Cement Bags Puchase,Dewali Flower Purchase,Motor Wiring etc..Annexure 01\"])]"
   ]
  },
  {
   "cell_type": "code",
   "execution_count": 7,
   "id": "f3836f7d",
   "metadata": {},
   "outputs": [],
   "source": [
    "final_df = final_df[final_df['Expense Type'].isin(['Common Maintenance for each Flat', 'Water tankers bill'\n",
    "                                     ]) | final_df['Expense Type'].str.contains('Garbage Collection')].drop_duplicates()"
   ]
  },
  {
   "cell_type": "code",
   "execution_count": 8,
   "id": "6d5abdc5",
   "metadata": {},
   "outputs": [],
   "source": [
    "final_df['Period Date'] = period_date\n",
    "misc_df['Period Date'] = period_date"
   ]
  },
  {
   "cell_type": "code",
   "execution_count": 9,
   "id": "8d5a96c7",
   "metadata": {},
   "outputs": [],
   "source": [
    "writer = pd.ExcelWriter('icon_marigold.xlsx', engine='openpyxl', mode='a', if_sheet_exists = 'replace')\n",
    "final_df.to_excel(writer,sheet_name=tabname)\n",
    "writer.save()\n",
    "writer.close()"
   ]
  },
  {
   "cell_type": "code",
   "execution_count": 10,
   "id": "6210b41f",
   "metadata": {},
   "outputs": [],
   "source": [
    "writer = pd.ExcelWriter('icon_marigold_misc.xlsx', engine='openpyxl', mode='a', if_sheet_exists = 'replace')\n",
    "misc_df.to_excel(writer,sheet_name=tabname)\n",
    "writer.save()\n",
    "writer.close()"
   ]
  }
 ],
 "metadata": {
  "kernelspec": {
   "display_name": "Python 3 (ipykernel)",
   "language": "python",
   "name": "python3"
  },
  "language_info": {
   "codemirror_mode": {
    "name": "ipython",
    "version": 3
   },
   "file_extension": ".py",
   "mimetype": "text/x-python",
   "name": "python",
   "nbconvert_exporter": "python",
   "pygments_lexer": "ipython3",
   "version": "3.9.7"
  }
 },
 "nbformat": 4,
 "nbformat_minor": 5
}
